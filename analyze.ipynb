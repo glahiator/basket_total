{
 "cells": [
  {
   "cell_type": "code",
   "execution_count": 1,
   "metadata": {},
   "outputs": [],
   "source": [
    "import pandas as pd\n",
    "import json\n",
    "import numpy as np\n",
    "import matplotlib.pyplot as plt\n",
    "import seaborn as sns\n",
    "from pandas import Series, DataFrame\n",
    "%matplotlib inline"
   ]
  },
  {
   "cell_type": "markdown",
   "metadata": {},
   "source": [
    "Сделать новый файл с матчами"
   ]
  },
  {
   "cell_type": "code",
   "execution_count": 2,
   "metadata": {},
   "outputs": [],
   "source": [
    "all_matches = pd.read_json(\"storage/results.json\" )\n",
    "all_matches[\"score_h\"] = all_matches[\"score\"].apply( lambda x: int (x.split(\":\")[0] )  ) \n",
    "all_matches[\"score_a\"] = all_matches[\"score\"].apply( lambda x: int (x.split(\":\")[1] )  ) \n",
    "all_matches[\"total_sum\"] = all_matches[\"score_h\"] + all_matches[\"score_a\"]\n",
    "del all_matches[\"score\"]\n",
    "del all_matches[\"id\"]\n",
    "del all_matches[\"quarters\"]\n",
    "del all_matches[\"gandicap\"]"
   ]
  },
  {
   "cell_type": "code",
   "execution_count": 3,
   "metadata": {},
   "outputs": [],
   "source": [
    "team_info = all_matches.copy()\n",
    "team_info[\"delta\"] = team_info[\"total_sum\"] - team_info[\"total\"]\n",
    "team_info = team_info.reset_index(drop=True)\n",
    "teams = sorted ( all_matches['home'].unique() )\n",
    "\n",
    "pd.options.mode.chained_assignment = None \n",
    "def get_team_chrono_delta(team_name, curr_total):    \n",
    "    team_stat = team_info[ (team_info['home'] == team_name) | (team_info['away'] == team_name )]\n",
    "    team_stat['date'] = team_stat['date'].apply( lambda x: x.date() )  \n",
    "    # team_stat = team_stat.set_index('date')\n",
    "    team_stat = team_stat.sort_values(by=['date'])\n",
    "    # ax = team_stat.plot.bar( y='total', ylim= [200, 250])\n",
    "    bar_colors = [ 'tab:red' if float(i) < curr_total else 'tab:green' for i in team_stat['total']]\n",
    "    ax = team_stat.plot.bar( y='delta', ylim= [-50, 50], title=team_name, legend=False, \n",
    "                            x = 'total', color=bar_colors, figsize=(10,4), grid=True, yticks=np.arange(-50,50, 10),\n",
    "                           width=0.8)\n",
    "    under_count = team_stat[ team_stat['delta'] < 0 ]['delta']\n",
    "    over_count = team_stat[ team_stat['delta'] > 0 ]['delta']\n",
    "    print(f\"For {len(team_stat['date'])} matches {len(under_count)} under/{len(over_count)} over\")\n",
    "    \n",
    "\n",
    "def get_team_chrono_delta_place(team_name, curr_total, place):    \n",
    "    team_stat = team_info[ team_info[place] == team_name]\n",
    "    team_stat['date'] = team_stat['date'].apply( lambda x: x.date() )  \n",
    "    # team_stat = team_stat.set_index('date')\n",
    "    team_stat = team_stat.sort_values(by=['date'])\n",
    "    # ax = team_stat.plot.bar( y='total', ylim= [200, 250])\n",
    "    bar_colors = [ 'tab:red' if float(i) < curr_total else 'tab:green' for i in team_stat['total']]\n",
    "    ax = team_stat.plot.bar( y='delta', ylim= [-50, 50], title=team_name, legend=False, \n",
    "                            x = 'total', color=bar_colors, figsize=(10,4), grid=True, yticks=np.arange(-50,50, 10),\n",
    "                           width=0.8)\n",
    "    under_count = team_stat[ team_stat['delta'] < 0 ]['delta']\n",
    "    over_count = team_stat[ team_stat['delta'] > 0 ]['delta']\n",
    "    print(f\"For {len(team_stat['date'])} matches {len(under_count)} under/{len(over_count)} over\")\n",
    "    \n",
    "def my_map(old_value, old_min, old_max, new_min, new_max):\n",
    "    new_value = ( (old_value - old_min) / (old_max - old_min) ) * (new_max - new_min) + new_min\n",
    "    return new_value\n",
    "\n",
    "def get_team_chrono_delta_place_odd(team_name, curr_total, place, current_odd ):    \n",
    "    team_stat = team_info[ team_info[place] == team_name]\n",
    "    team_stat['date'] = team_stat['date'].apply( lambda x: x.date() )  \n",
    "    # team_stat = team_stat.set_index('date')\n",
    "    team_stat = team_stat.sort_values(by=['date'])\n",
    "    \n",
    "    max_odd =  max(team_stat[f\"odd_{place[0]}\"])\n",
    "    min_odd =  min(team_stat[f\"odd_{place[0]}\"])\n",
    "    # print(min_odd, \" - \", max_odd)\n",
    "    \n",
    "    if current_odd < min_odd:\n",
    "        min_odd = max_odd\n",
    "    elif current_odd > max_odd:\n",
    "        max_odd = min_odd\n",
    "    elif current_odd - min_odd > max_odd - current_odd:\n",
    "        max_odd += 2 * current_odd - min_odd - max_odd\n",
    "    elif current_odd - min_odd < max_odd - current_odd:\n",
    "        min_odd -= max_odd + min_odd - 2 * current_odd\n",
    "    def left_b(odd):\n",
    "        return (0.1, my_map(odd, min_odd, current_odd, 0.0, 1.0), 0.7)\n",
    "    def right_b(odd):\n",
    "        return (0.1, my_map(odd, max_odd, current_odd, 0.0, 1.0), 0.7)\n",
    "    \n",
    "        \n",
    "    \n",
    "    bar_colors = [ left_b(i) if i <= current_odd else right_b(i)  for i in team_stat[f\"odd_{place[0]}\"]]\n",
    "    ax = team_stat.plot.bar( y='delta', ylim= [-50, 50], title=team_name, legend=False, \n",
    "                            x = 'total', color=bar_colors, figsize=(10,4), grid=True, yticks=np.arange(-50,50, 10),\n",
    "                           width=0.8)\n",
    "    under_count = team_stat[ team_stat['delta'] < 0 ]['delta']\n",
    "    over_count = team_stat[ team_stat['delta'] > 0 ]['delta']\n",
    "    return f\"{len(under_count)} under/{len(over_count)} over\"\n",
    "    # print(f\"For {len(team_stat['date'])} matches {len(under_count)} under/{len(over_count)} over\")\n",
    "    \n",
    "def get_team_chrono_odd(team_name):    \n",
    "    team_stat = team_info[ (team_info['home'] == team_name) | (team_info['away'] == team_name )]\n",
    "    team_stat['date'] = team_stat['date'].apply( lambda x: x.date() )  \n",
    "    \n",
    "    team_stat['odd'] = team_stat['odd_a'].where( team_stat['away'] == team_name, team_stat['odd_h'])\n",
    "    \n",
    "    max_val = max(team_stat['odd'])\n",
    "    min_val = min(team_stat['odd'])\n",
    "    \n",
    "    team_stat['result'] = \"WIN\"\n",
    "    team_stat['result'] = team_stat['result'].where((( team_stat['home'] == team_name) & (team_stat['score_h'] > team_stat['score_a'] )) \n",
    "                                                  | (( team_stat['away'] == team_name) & (team_stat['score_a'] > team_stat['score_h'] )) , \"LOSE\")\n",
    "    \n",
    "    team_stat = team_stat.sort_values(by=['date'])       \n",
    "        \n",
    "    bar_colors = [ 'tab:red' if  h == \"LOSE\"   else 'tab:green' for h in team_stat['result']]\n",
    "    y_high = max_val + max_val * 0.1\n",
    "    y_low = min_val - min_val * 0.1\n",
    "    ax = team_stat.plot.bar( y='odd', ylim= [y_low, y_high], title=team_name, legend=False, \n",
    "                            x = 'date', color=bar_colors, figsize=(10,4), grid=True, yticks=np.arange(y_low,y_high, (y_high - y_low) / 6),\n",
    "                           width=0.8)\n",
    "    print(team_stat['odd'].describe())\n",
    "\n",
    "def get_team_chrono_odd_place(team_name, place):    \n",
    "    team_stat = team_info[ (team_info[place] == team_name)]\n",
    "    team_stat['date'] = team_stat['date'].apply( lambda x: x.date() )  \n",
    "    \n",
    "    team_stat['odd'] = team_stat['odd_a'].where( team_stat['away'] == team_name, team_stat['odd_h'])\n",
    "    \n",
    "    max_val = max(team_stat['odd'])\n",
    "    min_val = min(team_stat['odd'])\n",
    "    \n",
    "    team_stat['result'] = \"WIN\"\n",
    "    team_stat['result'] = team_stat['result'].where((( team_stat['home'] == team_name) & (team_stat['score_h'] > team_stat['score_a'] )) \n",
    "                                                  | (( team_stat['away'] == team_name) & (team_stat['score_a'] > team_stat['score_h'] )) , \"LOSE\")\n",
    "    \n",
    "    team_stat = team_stat.sort_values(by=['date'])       \n",
    "        \n",
    "    # bar_colors = [ 'tab:red' if  h == \"LOSE\"   else 'tab:green' for h in team_stat['result']]\n",
    "    # y_high = max_val + max_val * 0.1\n",
    "    # y_low = min_val - min_val * 0.1\n",
    "    # ax = team_stat.plot.bar( y='odd', ylim= [y_low, y_high], title=team_name, legend=False, \n",
    "    #                         x = 'date', color=bar_colors, figsize=(10,4), grid=True, yticks=np.arange(y_low,y_high, (y_high - y_low) / 6),\n",
    "    #                        width=0.8)\n",
    "    return(team_stat['odd'].describe())"
   ]
  },
  {
   "cell_type": "code",
   "execution_count": 4,
   "metadata": {},
   "outputs": [],
   "source": [
    "total = all_matches.copy()\n",
    "total[\"delta\"] = total[\"total_sum\"] - total[\"total\"]\n",
    "del total[\"date\"]\n",
    "total = total.reset_index(drop=True)"
   ]
  },
  {
   "cell_type": "code",
   "execution_count": 5,
   "metadata": {},
   "outputs": [],
   "source": [
    "import matplotlib as mpl\n",
    "import matplotlib.lines as mlines\n",
    "\n",
    "def get_team( team_name ) :    \n",
    "    home = total[total[\"home\"] == team_name][[\"odd_h\", \"total\", \"delta\" ]]\n",
    "    home = home.rename(columns={\"odd_h\": \"odd\", \"match_score\" : \"match\"})\n",
    "\n",
    "    away =  total[total[\"away\"] == team_name][[\"odd_a\", \"total\", \"delta\" ]]\n",
    "    away = away.rename(columns={\"odd_a\": \"odd\", \"match_score\" : \"match\"})\n",
    "    team = pd.concat([home,away]).reset_index(drop=True)\n",
    "    return team\n",
    "\n",
    "def get_team_place( team_name, place ) :    \n",
    "    odd_name = \"odd_h\" if place == \"home\" else \"odd_a\"\n",
    "    home = total[total[place] == team_name][[odd_name, \"total\", \"delta\" ]]\n",
    "    home = home.rename(columns={odd_name: \"odd\", \"match_score\" : \"match\"})\n",
    "\n",
    "    # away =  total[total[\"away\"] == team_name][[\"odd_a\", \"total\", \"delta\" ]]\n",
    "    # away = away.rename(columns={\"odd_a\": \"odd\", \"match_score\" : \"match\"})\n",
    "    team = home.reset_index(drop=True)\n",
    "    return team\n",
    "\n",
    "def get_fav( val ):\n",
    "    if val >= 1.0 and val < 1.5 :\n",
    "        return \"HIGH\"\n",
    "    elif val >= 1.5 and val < 2.0 :\n",
    "        return \"MED\"\n",
    "    elif val >= 2.0 and val < 3.0 :\n",
    "        return \"LOW\"\n",
    "    elif val >= 3.0  :\n",
    "        return \"FEW\"\n",
    "    \n",
    "def complete_match(home, away, total):\n",
    "    team = get_team(home)\n",
    "    team[\"fav\"] = team[\"odd\"].apply( lambda x : get_fav(x) )\n",
    "    team['id'] = \"home\"    \n",
    "    team2 = get_team(away)\n",
    "    team2[\"fav\"] = team2[\"odd\"].apply( lambda x : get_fav(x) )\n",
    "    team2['id'] = \"away\"\n",
    "    # data=pd.concat([team, team2])\n",
    "    \n",
    "    ax = team.plot.scatter(x=\"total\", y=\"delta\", label=home,  c='odd', colormap='cool')\n",
    "    ax1 = team2.plot.scatter(x=\"total\", y=\"delta\", label=away, c='odd', colormap='cool')\n",
    "        \n",
    "    x_min, x_max = ax.get_xlim()\n",
    "    y_min, y_max = ax.get_ylim()\n",
    "    x_min1, x_max1 = ax1.get_xlim()   \n",
    "    y_min1, y_max1 = ax1.get_ylim()\n",
    "\n",
    "    ax.plot([float(total), float(total), float(total)], [y_min, 0, y_max], 'y', ls='--')\n",
    "    ax.plot([x_min,x_max],[0, 0], 'y', ls='--')\n",
    "    ax1.plot([float(total), float(total), float(total)], [y_min1, 0, y_max1], 'y', ls='--')\n",
    "    ax1.plot([x_min1,x_max1],[0, 0], 'y', ls='--')    \n",
    "    \n",
    "def complete_match_place(home, away, total):\n",
    "    team = get_team_place(home, \"home\")\n",
    "    team[\"fav\"] = team[\"odd\"].apply( lambda x : get_fav(x) )\n",
    "    team['id'] = \"home\"    \n",
    "    team2 = get_team_place(away, \"away\")\n",
    "    team2[\"fav\"] = team2[\"odd\"].apply( lambda x : get_fav(x) )\n",
    "    team2['id'] = \"away\"\n",
    "    # data=pd.concat([team, team2])\n",
    "    \n",
    "    ax = team.plot.scatter(x=\"total\", y=\"delta\", label=home,  c='odd', colormap='cool')\n",
    "    ax1 = team2.plot.scatter(x=\"total\", y=\"delta\", label=away, c='odd', colormap='cool')\n",
    "        \n",
    "    x_min, x_max = ax.get_xlim()\n",
    "    y_min, y_max = ax.get_ylim()\n",
    "    x_min1, x_max1 = ax1.get_xlim()   \n",
    "    y_min1, y_max1 = ax1.get_ylim()\n",
    "\n",
    "    ax.plot([float(total), float(total), float(total)], [y_min, 0, y_max], 'y', ls='--')\n",
    "    ax.plot([x_min,x_max],[0, 0], 'y', ls='--')\n",
    "    ax1.plot([float(total), float(total), float(total)], [y_min1, 0, y_max1], 'y', ls='--')\n",
    "    ax1.plot([x_min1,x_max1],[0, 0], 'y', ls='--')  \n",
    "    "
   ]
  },
  {
   "cell_type": "code",
   "execution_count": 35,
   "metadata": {},
   "outputs": [
    {
     "name": "stdout",
     "output_type": "stream",
     "text": [
      "Сакраменто Кингз Даллас Маверикс\n",
      "10 under/17 over\n",
      "14 under/14 over\n",
      "with total 233.5 and odds: 1.74 :  2.1\n"
     ]
    },
    {
     "data": {
      "image/png": "[encoded data removed]",
      "text/plain": [
       "<Figure size 720x288 with 1 Axes>"
      ]
     },
     "metadata": {
      "needs_background": "light"
     },
     "output_type": "display_data"
    },
    {
     "data": {
      "image/png": "[encoded data removed]",
      "text/plain": [
       "<Figure size 720x288 with 1 Axes>"
      ]
     },
     "metadata": {
      "needs_background": "light"
     },
     "output_type": "display_data"
    }
   ],
   "source": [
    "import datetime, json\n",
    "import pandas as pd\n",
    "\n",
    "today = pd.read_json(\"storage/today.json\" )\n",
    "del today[\"id\"]\n",
    "del today[\"gandicap\"]\n",
    "\n",
    "m = today.iloc[9]\n",
    "home_res_str = get_team_chrono_delta_place_odd(m['home'], m['total'], 'home', m['odd_h'] )\n",
    "away_res_str = get_team_chrono_delta_place_odd(m['away'], m['total'], 'away', m['odd_a'] )\n",
    "\n",
    "print(  m['home'],  m['away'])\n",
    "print(home_res_str)\n",
    "print(away_res_str)\n",
    "print( f\"with total {m['total']} and odds: {m['odd_h']} :  {m['odd_a']}\")"
   ]
  },
  {
   "cell_type": "code",
   "execution_count": 36,
   "metadata": {},
   "outputs": [
    {
     "name": "stdout",
     "output_type": "stream",
     "text": [
      "Сакраменто Кингз 1.74\n",
      "count    27.000000\n",
      "mean      1.676667\n",
      "std       0.409625\n",
      "min       1.140000\n",
      "25%       1.335000\n",
      "50%       1.630000\n",
      "75%       1.855000\n",
      "max       2.500000\n",
      "Name: odd, dtype: float64\n",
      "===============================================\n",
      "Даллас Маверикс 2.1\n",
      "count    28.000000\n",
      "mean      2.328571\n",
      "std       1.015632\n",
      "min       1.250000\n",
      "25%       1.462500\n",
      "50%       1.955000\n",
      "75%       2.825000\n",
      "max       5.000000\n",
      "Name: odd, dtype: float64\n",
      "===============================================\n"
     ]
    }
   ],
   "source": [
    "print( m['home'], m['odd_h'])\n",
    "print(get_team_chrono_odd_place( m['home'], 'home' ))\n",
    "print('===============================================')\n",
    "print( m['away'], m['odd_a'])\n",
    "print(get_team_chrono_odd_place( m['away'], 'away' ))\n",
    "print('===============================================')"
   ]
  },
  {
   "cell_type": "code",
   "execution_count": 37,
   "metadata": {},
   "outputs": [
    {
     "data": {
      "image/png": "[encoded data removed]",
      "text/plain": [
       "<Figure size 432x288 with 2 Axes>"
      ]
     },
     "metadata": {
      "needs_background": "light"
     },
     "output_type": "display_data"
    },
    {
     "data": {
      "image/png": "[encoded data removed]",
      "text/plain": [
       "<Figure size 432x288 with 2 Axes>"
      ]
     },
     "metadata": {
      "needs_background": "light"
     },
     "output_type": "display_data"
    }
   ],
   "source": [
    "complete_match_place( m['home'], m['away'], m['total'] )"
   ]
  },
  {
   "cell_type": "code",
   "execution_count": 9,
   "metadata": {},
   "outputs": [
    {
     "data": {
      "text/plain": [
       "'\\n\\n\\n\\n'"
      ]
     },
     "execution_count": 9,
     "metadata": {},
     "output_type": "execute_result"
    }
   ],
   "source": [
    "'''\n",
    "                 10       11       12       13          14         15        16        17        18        19        20\n",
    "Москва Нальчик  12'897  16'197   16'197   16'197     25'197      21'297    31'797   31'797   35'997    31'797    25'497  \n",
    "МинВоды         17'850  17'045   19'820   21'297     22'813      19'219    24'936   32'160   42'585    32'120    21'597  \n",
    "Владикавказ     14'860  15'897   11'097   11'097     12'297      15'897    15'897   21'297   18'640    21'297    18'297  \n",
    "Назрань         12'897  14'697    9'597    9'597      9'597       9'597    11'097   14'697   14'697    11'097     8'697  \n",
    "'''\n",
    "\n",
    "'''\n",
    "\n",
    "\n",
    "\n",
    "'''"
   ]
  },
  {
   "cell_type": "code",
   "execution_count": null,
   "metadata": {},
   "outputs": [],
   "source": [
    "Индиа Финикс ТМ +\n",
    "Бостон Шарлот ТМ +\n",
    "Орлеан Кливленд ТМ +\n",
    "\n",
    "----\n",
    "Портленд Окла ТМ +\n",
    "Сакраменто Даллас ТМ+ \n",
    "----\n",
    "\n",
    "Торонто Юта ТМ "
   ]
  }
 ],
 "metadata": {
  "kernelspec": {
   "display_name": "Python 3",
   "language": "python",
   "name": "python3"
  },
  "language_info": {
   "codemirror_mode": {
    "name": "ipython",
    "version": 3
   },
   "file_extension": ".py",
   "mimetype": "text/x-python",
   "name": "python",
   "nbconvert_exporter": "python",
   "pygments_lexer": "ipython3",
   "version": "3.6.9"
  },
  "vscode": {
   "interpreter": {
    "hash": "369f2c481f4da34e4445cda3fffd2e751bd1c4d706f27375911949ba6bb62e1c"
   }
  }
 },
 "nbformat": 4,
 "nbformat_minor": 4
}
