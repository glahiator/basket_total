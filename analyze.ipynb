{
 "cells": [
  {
   "cell_type": "code",
   "execution_count": 19,
   "metadata": {},
   "outputs": [],
   "source": [
    "import pandas as pd\n",
    "import json\n",
    "import numpy as np\n",
    "import matplotlib.pyplot as plt\n",
    "import seaborn as sns\n",
    "from pandas import Series, DataFrame\n",
    "%matplotlib inline"
   ]
  },
  {
   "cell_type": "markdown",
   "metadata": {},
   "source": [
    "Сделать новый файл с матчами"
   ]
  },
  {
   "cell_type": "code",
   "execution_count": 20,
   "metadata": {},
   "outputs": [
    {
     "name": "stdout",
     "output_type": "stream",
     "text": [
      "Loaded 443 matches\n"
     ]
    }
   ],
   "source": [
    "def clean_json( in_file ):\n",
    "    src = []\n",
    "    with open( in_file, 'r', encoding='utf-8', newline='' ) as f:\n",
    "        src = json.load(f)\n",
    "    print(f\"Loaded {len(src)} matches\")\n",
    "    dst = []\n",
    "    for m in src:\n",
    "        m_new = {}\n",
    "        for k,v in m.items():\n",
    "            if k in [\"home\", \"away\"]:\n",
    "                m_new[k] = v[\"name\"]\n",
    "            # elif k == \"quarters\":\n",
    "            #     m_new[\"q1\"] = v[\"1\"]\n",
    "            #     m_new[\"q2\"] = v[\"2\"]\n",
    "            #     m_new[\"q3\"] = v[\"3\"]\n",
    "            #     m_new[\"q4\"] = v[\"4\"]\n",
    "            #     m_new[\"ot\"] = v[\"5\"]\n",
    "            elif k == \"odds\":\n",
    "                m_new[\"odd_h\"] = v[\"home\"]\n",
    "                m_new[\"odd_a\"] = v[\"away\"]\n",
    "                for ttl in v['total']:                \n",
    "                    if float( ttl[1] ) < 1.97  and float( ttl[2] ) < 2.0 :\n",
    "                        m_new['total'] = ttl[0]\n",
    "            elif k in [\"score\", \"date\"]:\n",
    "                m_new[k] = v\n",
    "        dst.append(m_new)   \n",
    "    return dst\n",
    "\n",
    "dst = clean_json( \"matches.json\" )\n",
    "\n",
    "with open( \"matches_clean.json\", 'w', encoding='utf-8', newline='' ) as f:\n",
    "    json.dump(dst, f, ensure_ascii=False, indent=4)"
   ]
  },
  {
   "cell_type": "code",
   "execution_count": 22,
   "metadata": {},
   "outputs": [],
   "source": [
    "all_matches = pd.read_json(\"matches_clean.json\" )\n",
    "all_matches[\"score_h\"] = all_matches[\"score\"].apply( lambda x: int (x.split(\":\")[0] )  ) \n",
    "all_matches[\"score_a\"] = all_matches[\"score\"].apply( lambda x: int (x.split(\":\")[1] )  ) \n",
    "all_matches[\"total_sum\"] = all_matches[\"score_h\"] + all_matches[\"score_a\"]\n",
    "del all_matches[\"score\"]\n"
   ]
  },
  {
   "cell_type": "code",
   "execution_count": 23,
   "metadata": {},
   "outputs": [],
   "source": [
    "total = all_matches.copy()\n",
    "total[\"delta\"] = total[\"total_sum\"] - total[\"total\"]\n",
    "del total[\"date\"]\n",
    "total = total.reset_index(drop=True)\n"
   ]
  },
  {
   "cell_type": "code",
   "execution_count": 24,
   "metadata": {},
   "outputs": [
    {
     "data": {
      "text/html": [
       "<div>\n",
       "<style scoped>\n",
       "    .dataframe tbody tr th:only-of-type {\n",
       "        vertical-align: middle;\n",
       "    }\n",
       "\n",
       "    .dataframe tbody tr th {\n",
       "        vertical-align: top;\n",
       "    }\n",
       "\n",
       "    .dataframe thead th {\n",
       "        text-align: right;\n",
       "    }\n",
       "</style>\n",
       "<table border=\"1\" class=\"dataframe\">\n",
       "  <thead>\n",
       "    <tr style=\"text-align: right;\">\n",
       "      <th></th>\n",
       "      <th>home</th>\n",
       "      <th>away</th>\n",
       "      <th>odd_h</th>\n",
       "      <th>odd_a</th>\n",
       "      <th>total</th>\n",
       "      <th>score_h</th>\n",
       "      <th>score_a</th>\n",
       "      <th>total_sum</th>\n",
       "      <th>delta</th>\n",
       "    </tr>\n",
       "  </thead>\n",
       "  <tbody>\n",
       "    <tr>\n",
       "      <th>438</th>\n",
       "      <td>Торонто Рэпторс</td>\n",
       "      <td>Кливленд Кавальерс</td>\n",
       "      <td>1.70</td>\n",
       "      <td>2.16</td>\n",
       "      <td>217.0</td>\n",
       "      <td>108</td>\n",
       "      <td>105</td>\n",
       "      <td>213</td>\n",
       "      <td>-4.0</td>\n",
       "    </tr>\n",
       "    <tr>\n",
       "      <th>439</th>\n",
       "      <td>Детройт Пистонс</td>\n",
       "      <td>Орландо Мэджик</td>\n",
       "      <td>1.65</td>\n",
       "      <td>2.25</td>\n",
       "      <td>216.5</td>\n",
       "      <td>113</td>\n",
       "      <td>109</td>\n",
       "      <td>222</td>\n",
       "      <td>5.5</td>\n",
       "    </tr>\n",
       "    <tr>\n",
       "      <th>440</th>\n",
       "      <td>Индиана Пэйсерс</td>\n",
       "      <td>Вашингтон Уизардс</td>\n",
       "      <td>2.17</td>\n",
       "      <td>1.70</td>\n",
       "      <td>229.0</td>\n",
       "      <td>107</td>\n",
       "      <td>114</td>\n",
       "      <td>221</td>\n",
       "      <td>-8.0</td>\n",
       "    </tr>\n",
       "    <tr>\n",
       "      <th>441</th>\n",
       "      <td>Голден Стэйт Уорриорз</td>\n",
       "      <td>Лос-Анджелес Лейкерс</td>\n",
       "      <td>1.31</td>\n",
       "      <td>3.50</td>\n",
       "      <td>224.0</td>\n",
       "      <td>123</td>\n",
       "      <td>109</td>\n",
       "      <td>232</td>\n",
       "      <td>8.0</td>\n",
       "    </tr>\n",
       "    <tr>\n",
       "      <th>442</th>\n",
       "      <td>Бостон Селтикс</td>\n",
       "      <td>Филадельфия Сиксерс</td>\n",
       "      <td>1.67</td>\n",
       "      <td>2.22</td>\n",
       "      <td>216.5</td>\n",
       "      <td>126</td>\n",
       "      <td>117</td>\n",
       "      <td>243</td>\n",
       "      <td>26.5</td>\n",
       "    </tr>\n",
       "  </tbody>\n",
       "</table>\n",
       "</div>"
      ],
      "text/plain": [
       "                      home                  away  odd_h  odd_a  total  \\\n",
       "438        Торонто Рэпторс    Кливленд Кавальерс   1.70   2.16  217.0   \n",
       "439        Детройт Пистонс        Орландо Мэджик   1.65   2.25  216.5   \n",
       "440        Индиана Пэйсерс     Вашингтон Уизардс   2.17   1.70  229.0   \n",
       "441  Голден Стэйт Уорриорз  Лос-Анджелес Лейкерс   1.31   3.50  224.0   \n",
       "442         Бостон Селтикс   Филадельфия Сиксерс   1.67   2.22  216.5   \n",
       "\n",
       "     score_h  score_a  total_sum  delta  \n",
       "438      108      105        213   -4.0  \n",
       "439      113      109        222    5.5  \n",
       "440      107      114        221   -8.0  \n",
       "441      123      109        232    8.0  \n",
       "442      126      117        243   26.5  "
      ]
     },
     "execution_count": 24,
     "metadata": {},
     "output_type": "execute_result"
    }
   ],
   "source": [
    "total.tail()"
   ]
  },
  {
   "cell_type": "code",
   "execution_count": 139,
   "metadata": {},
   "outputs": [],
   "source": [
    "import matplotlib as mpl\n",
    "import matplotlib.lines as mlines\n",
    "\n",
    "def get_team( team_name ) :    \n",
    "    home = total[total[\"home\"] == team_name][[\"odd_h\", \"total\", \"delta\" ]]\n",
    "    home = home.rename(columns={\"odd_h\": \"odd\", \"match_score\" : \"match\"})\n",
    "\n",
    "    away =  total[total[\"away\"] == team_name][[\"odd_a\", \"total\", \"delta\" ]]\n",
    "    away = away.rename(columns={\"odd_a\": \"odd\", \"match_score\" : \"match\"})\n",
    "    team = pd.concat([home,away]).reset_index(drop=True)\n",
    "    return team\n",
    "\n",
    "def get_fav( val ):\n",
    "    if val >= 1.0 and val < 1.5 :\n",
    "        return \"HIGH\"\n",
    "    elif val >= 1.5 and val < 2.0 :\n",
    "        return \"MED\"\n",
    "    elif val >= 2.0 and val < 3.0 :\n",
    "        return \"LOW\"\n",
    "    elif val >= 3.0  :\n",
    "        return \"FEW\"\n",
    "    \n",
    "def complete_match(home, away, total):\n",
    "    team = get_team(home)\n",
    "    team[\"fav\"] = team[\"odd\"].apply( lambda x : get_fav(x) )\n",
    "    team['id'] = \"home\"    \n",
    "    team2 = get_team(away)\n",
    "    team2[\"fav\"] = team2[\"odd\"].apply( lambda x : get_fav(x) )\n",
    "    team2['id'] = \"away\"\n",
    "    # data=pd.concat([team, team2])\n",
    "    \n",
    "    ax = team.plot.scatter(x=\"total\", y=\"delta\", label=home,  c='odd', colormap='cool')\n",
    "    ax1 = team2.plot.scatter(x=\"total\", y=\"delta\", label=away, c='odd', colormap='cool')\n",
    "    line_total = mlines.Line2D([float(total), float(total)], [float(total), float(total)], color='red')\n",
    "    # ax.add_line(line_total)\n",
    "    ax.plot([float(total), float(total), float(total)], [-50, 0, 30], 'y', ls='--')\n",
    "    ax.plot([210,230],[0, 0], 'y', ls='--')\n",
    "    ax1.plot([float(total), float(total), float(total)], [-50, 0, 30], 'y', ls='--')\n",
    "    ax1.plot([210,230],[0, 0], 'y', ls='--')\n",
    "    # ax1.add_line(line_total)\n",
    "    # color=\"DarkBlue\",color=\"DarkGreen\", \n",
    "    # return data\n",
    "#     g = sns.relplot(\n",
    "        # data = data\n",
    "#         x=\"total\", y=\"delta\",\n",
    "#         hue = \"fav\", col=\"fav\", size=\"id\", style=\"id\"\n",
    "#     )\n",
    "    \n",
    "    "
   ]
  },
  {
   "cell_type": "code",
   "execution_count": 140,
   "metadata": {},
   "outputs": [],
   "source": [
    "t = get_team(\"Филадельфия Сиксерс\")\n"
   ]
  },
  {
   "cell_type": "code",
   "execution_count": null,
   "metadata": {},
   "outputs": [
    {
     "name": "stdout",
     "output_type": "stream",
     "text": [
      "Loaded 114 matches\n",
      "For Миннесота Тимбервулвз and Даллас Маверикс with total 230.5 and odds: 2.28 :  1.64\n"
     ]
    },
    {
     "data": {
      "image/png": "[encoded data removed]",
      "text/plain": [
       "<Figure size 640x480 with 2 Axes>"
      ]
     },
     "metadata": {},
     "output_type": "display_data"
    },
    {
     "data": {
      "image/png": "[encoded data removed]",
      "text/plain": [
       "<Figure size 640x480 with 2 Axes>"
      ]
     },
     "metadata": {},
     "output_type": "display_data"
    }
   ],
   "source": [
    "import datetime, json\n",
    "import pandas as pd\n",
    "src = []\n",
    "with open( \"matches_sched.json\", 'r', encoding='utf-8', newline='' ) as f:\n",
    "    src = json.load(f)\n",
    "print(f\"Loaded {len(src)} matches\")\n",
    "dst = []\n",
    "for m in src:\n",
    "    m_new = {}\n",
    "    is_break = False\n",
    "    for k,v in m.items():\n",
    "        if k in [\"home\", \"away\"]:\n",
    "            m_new[k] = v\n",
    "        elif k == \"odds\":\n",
    "            m_new[\"odd_h\"] = v[\"home\"]\n",
    "            m_new[\"odd_a\"] = v[\"away\"]\n",
    "            for ttl in v['total']:                \n",
    "                if float( ttl[1] ) < 1.97  and float( ttl[2] ) < 2.0 :\n",
    "                    m_new['total'] = ttl[0]\n",
    "        elif k == \"date\":\n",
    "            match_date =  pd.to_datetime(v)\n",
    "            search_date =  datetime.datetime.now() + datetime.timedelta(days=1)\n",
    "            if match_date > search_date:\n",
    "                is_break = True\n",
    "                break\n",
    "    if is_break:\n",
    "        break\n",
    "    dst.append(m_new)\n",
    "\n",
    "m = dst[6]\n",
    "print( f\"For {m['home']} and {m['away']} with total {m['total']} and odds: {m['odd_h']} :  {m['odd_a']}\")\n",
    "complete_match( m['home'], m['away'], m['total'] )\n",
    "    "
   ]
  },
  {
   "cell_type": "code",
   "execution_count": null,
   "metadata": {},
   "outputs": [],
   "source": []
  },
  {
   "cell_type": "code",
   "execution_count": null,
   "metadata": {},
   "outputs": [],
   "source": []
  }
 ],
 "metadata": {
  "kernelspec": {
   "display_name": "Python 3 (ipykernel)",
   "language": "python",
   "name": "python3"
  },
  "language_info": {
   "codemirror_mode": {
    "name": "ipython",
    "version": 3
   },
   "file_extension": ".py",
   "mimetype": "text/x-python",
   "name": "python",
   "nbconvert_exporter": "python",
   "pygments_lexer": "ipython3",
   "version": "3.10.4"
  },
  "vscode": {
   "interpreter": {
    "hash": "369f2c481f4da34e4445cda3fffd2e751bd1c4d706f27375911949ba6bb62e1c"
   }
  }
 },
 "nbformat": 4,
 "nbformat_minor": 4
}
